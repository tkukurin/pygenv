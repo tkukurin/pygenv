{
 "cells": [
  {
   "cell_type": "code",
   "execution_count": null,
   "metadata": {},
   "outputs": [],
   "source": [
    "#| hide\n",
    "from pygenv.core import *"
   ]
  },
  {
   "cell_type": "markdown",
   "metadata": {},
   "source": [
    "# pygenv\n",
    "\n",
    "> Manage Python global environments."
   ]
  },
  {
   "cell_type": "markdown",
   "metadata": {},
   "source": [
    "Mainly a way to test the `nbdev` experience but also answering [this question](https://bsky.app/profile/howard.fm/post/3lch556wehc24):\n",
    "\n",
    "> For folks that don't use conda, how do you debug problems that only occur on some particular Python or CUDA version?\n",
    ">\n",
    "> With conda, I have a few envs set up with various python and CUDA versions, so I just activate one and get to work.\n",
    ">\n",
    "> With something like uv, what do you do?\n"
   ]
  },
  {
   "cell_type": "markdown",
   "metadata": {},
   "source": [
    "## Usage"
   ]
  },
  {
   "cell_type": "markdown",
   "metadata": {},
   "source": [
    "### Installation"
   ]
  },
  {
   "cell_type": "markdown",
   "metadata": {},
   "source": [
    "Install latest:\n",
    "\n",
    "```sh\n",
    "$ pip install git+https://github.com/tkukurin/pygenv.git\n",
    "# or\n",
    "$ conda install -c tkukurin pygenv\n",
    "# or\n",
    "$ pip install pygenv\n",
    "```\n",
    "\n",
    "Documentation can be found hosted on this GitHub [repository][repo]'s [pages][docs]. Additionally you can find package manager specific guidelines on [conda][conda] and [pypi][pypi] respectively.\n",
    "\n",
    "[repo]: https://github.com/tkukurin/pygenv\n",
    "[docs]: https://tkukurin.github.io/pygenv/\n",
    "[pypi]: https://pypi.org/project/pygenv/\n",
    "[conda]: https://anaconda.org/tkukurin/pygenv"
   ]
  },
  {
   "cell_type": "markdown",
   "metadata": {},
   "source": [
    "## Developer Guide"
   ]
  },
  {
   "cell_type": "markdown",
   "metadata": {},
   "source": [
    "### Install pygenv in Development mode"
   ]
  },
  {
   "cell_type": "markdown",
   "metadata": {},
   "source": [
    "```sh\n",
    "# make sure pygenv package is installed in development mode\n",
    "$ pip install -e .\n",
    "# ... make changes under nbs/ directory ...\n",
    "# compile to have changes apply to pygenv\n",
    "$ nbdev_prepare\n",
    "```"
   ]
  }
 ],
 "metadata": {
  "kernelspec": {
   "display_name": "python3",
   "language": "python",
   "name": "python3"
  }
 },
 "nbformat": 4,
 "nbformat_minor": 4
}

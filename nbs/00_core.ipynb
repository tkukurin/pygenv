{
 "cells": [
  {
   "cell_type": "markdown",
   "metadata": {},
   "source": [
    "# core\n",
    "\n",
    "> Wraps global environment maintenance."
   ]
  },
  {
   "cell_type": "code",
   "execution_count": null,
   "metadata": {},
   "outputs": [],
   "source": [
    "#| default_exp core"
   ]
  },
  {
   "cell_type": "code",
   "execution_count": null,
   "metadata": {},
   "outputs": [],
   "source": [
    "#| hide\n",
    "from nbdev.showdoc import *"
   ]
  },
  {
   "cell_type": "code",
   "execution_count": null,
   "metadata": {},
   "outputs": [
    {
     "name": "stderr",
     "output_type": "stream",
     "text": [
      "usage: ipykernel_launcher.py [-h] name\n",
      "ipykernel_launcher.py: error: the following arguments are required: name\n"
     ]
    },
    {
     "ename": "SystemExit",
     "evalue": "2",
     "output_type": "error",
     "traceback": [
      "An exception has occurred, use %tb to see the full traceback.\n",
      "\u001b[0;31mSystemExit\u001b[0m\u001b[0;31m:\u001b[0m 2\n"
     ]
    },
    {
     "name": "stderr",
     "output_type": "stream",
     "text": [
      "/Users/toni/miniconda3/envs/research/lib/python3.11/site-packages/IPython/core/interactiveshell.py:3556: UserWarning: To exit: use 'exit', 'quit', or Ctrl-D.\n",
      "  warn(\"To exit: use 'exit', 'quit', or Ctrl-D.\", stacklevel=1)\n"
     ]
    }
   ],
   "source": [
    "#| export\n",
    "from functools import partial\n",
    "import os\n",
    "from pprint import pformat\n",
    "import sys\n",
    "from pathlib import Path\n",
    "import subprocess as sproc\n",
    "\n",
    "import subprocess\n",
    "from dataclasses import dataclass, field\n",
    "\n",
    "\n",
    "# informational vs output data\n",
    "# e.g. `tell` is meant to be piped or consumed by another script\n",
    "# `info` is just hack to replace logging\n",
    "info = partial(print, file=sys.stderr)\n",
    "tell = lambda *a: print(*a) if any(a) else None\n",
    "\n",
    "\n",
    "@dataclass\n",
    "class ProcResult:\n",
    "    ok: bool\n",
    "    out: str\n",
    "    err: str\n",
    "    raw: sproc.CompletedProcess = field(repr=False)\n",
    "\n",
    "\n",
    "def sprun(*args, **kwargs) -> ProcResult:\n",
    "    result = subprocess.run(\n",
    "        map(str, args),\n",
    "        capture_output=True,\n",
    "        text=False,  # Keep raw output as bytes\n",
    "        **kwargs\n",
    "    )\n",
    "    return ProcResult(\n",
    "        ok=result.returncode == 0,\n",
    "        out=result.stdout.decode('utf-8', errors='replace').strip() if result.stdout else \"\",\n",
    "        err=result.stderr.decode('utf-8', errors='replace').strip() if result.stderr else \"\",\n",
    "        raw=result,\n",
    "    )\n",
    "\n",
    "\n",
    "class GlobalEnv:\n",
    "    \"\"\"instance of a globally managed environment\n",
    "    \"\"\"\n",
    "\n",
    "    BASE = Path(\"~/tk/uv\").expanduser() \n",
    "\n",
    "    def __init__(self, name: str):\n",
    "        self.name = name\n",
    "        self.path = self.BASE / name\n",
    "\n",
    "    def activate_path(self, shell = None) -> Path:\n",
    "        shell = shell or os.path.basename(os.getenv('SHELL', '/bin/bash'))\n",
    "        for n, activate_file in ({\n",
    "            'bash': 'activate',\n",
    "            'zsh': 'activate',\n",
    "            'fish': 'activate.fish',\n",
    "            'csh': 'activate.csh',\n",
    "        }).items():\n",
    "            if shell.startswith(n):\n",
    "                break  # fix for \"fishlogin\"\n",
    "        return self.path / \"bin\" / activate_file\n",
    "    \n",
    "    def validate(env):\n",
    "        feats = dict(\n",
    "            has_root = env.path.exists(),\n",
    "            has_activate = env.activate_path.exists(),\n",
    "            has_py = (env.path / \"bin\" / \"python\").exists(),\n",
    "            py = sprun(\n",
    "                str(env.path / \"bin\" / \"python\"),\n",
    "                \"--version\"\n",
    "            ).out,\n",
    "        )\n",
    "        is_valid = all(v for k, v in feats.items() if k.startswith(\"has\"))\n",
    "        return is_valid, feats\n",
    "\n",
    "\n",
    "def env_make_activate(name: str):\n",
    "    outs = None\n",
    "    env = GlobalEnv(name)\n",
    "\n",
    "    if env.exists():\n",
    "        info(f\"Found {env.feats()=}\")\n",
    "    else:\n",
    "        created = sprun(\"uv\", \"venv\", env.path)\n",
    "        info(f\"{created.ok=}\")\n",
    "\n",
    "    valid, feats = env.validate()\n",
    "    if valid:\n",
    "        outs = f\"{env.activate_path}\"\n",
    "\n",
    "    info(f\"Env feats: {pformat(feats)}\")\n",
    "    return env, outs\n",
    "\n",
    "\n",
    "def cli():\n",
    "    import argparse\n",
    "    parser = argparse.ArgumentParser()\n",
    "    parser.add_argument(\"name\", help=\"Environment name\")\n",
    "    args = parser.parse_args()\n",
    "    env, outs = env_make_activate(args.name)\n",
    "    tell(outs)\n",
    "    return env\n",
    "\n",
    "# cli()\n",
    "# CompletedProcess(args=['uv', 'venv', '/Users/toni/tk/uv/pygen'], returncode=0, stdout=b'', stderr=b'Using Python 3.11.6 interpreter at: \\x1b[36m/Users/toni/miniconda3/envs/research/bin/python3.11\\x1b[39m\\nCreating virtualenv at: \\x1b[36m/Users/toni/tk/uv/pygen\\x1b[39m\\n')\n"
   ]
  },
  {
   "cell_type": "code",
   "execution_count": null,
   "metadata": {},
   "outputs": [],
   "source": [
    "#| hide\n",
    "import nbdev; nbdev.nbdev_export()"
   ]
  }
 ],
 "metadata": {
  "kernelspec": {
   "display_name": "python3",
   "language": "python",
   "name": "python3"
  }
 },
 "nbformat": 4,
 "nbformat_minor": 4
}
